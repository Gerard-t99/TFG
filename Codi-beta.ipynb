{
 "cells": [
  {
   "cell_type": "markdown",
   "metadata": {},
   "source": [
    "Solucionarem ara el nostre cas considerant que només tenim neutrons,protons i electrons"
   ]
  },
  {
   "cell_type": "code",
   "execution_count": 1,
   "metadata": {},
   "outputs": [],
   "source": [
    "import numpy as np\n",
    "import matplotlib.pyplot as plt\n",
    "\n",
    "from physical_constants import *\n",
    "from eos_functions import *"
   ]
  },
  {
   "cell_type": "markdown",
   "metadata": {},
   "source": [
    "Contribució a la densitat energia pels nucleons (neutrons + protons) degut a la binding energy entre ells\n",
    "\n",
    "\\begin{align*}\n",
    "e( n,x_p ) = \\frac{e_0}{n_0} n \\frac{ n - n_0(2+\\delta) }{ n_0 + \\delta n} \n",
    "+ S_0 \\left( \\frac{ n }{ n_0} \\right)^\\gamma \\left( 1 - 2 x_p \\right)^2\n",
    "\\, \n",
    "\\end{align*}"
   ]
  },
  {
   "cell_type": "code",
   "execution_count": 309,
   "metadata": {},
   "outputs": [],
   "source": [
    "# Paràmetres extrets del paper del model de binding energy of dense matter de H-H (Heiselberg i Hjorth-Jensen,2000)\n",
    "e0=15.8    \n",
    "delta=0.2  \n",
    "s0=32.     \n",
    "gamma=0.6"
   ]
  },
  {
   "cell_type": "code",
   "execution_count": 310,
   "metadata": {},
   "outputs": [],
   "source": [
    "num_densities=100 # Per quants valors diferents de densitat bariònica n volem trobar el valor corersponent de Pressió, i energia\n",
    "\n",
    "n0=0.16 # Densitat de saturació bariònica de la matèria normal, en fm^{-3}\n",
    "\n",
    "numden_i=0.5*n0 # interval de densitats n, tractarem valors de n entre numden_i (mínim valor n) i numden_f (màxim valor n)\n",
    "numden_f=10*n0\n",
    "\n",
    "# creem un vector amb tots els valors de la densitat n que volem tractar\n",
    "numden=np.linspace( numden_i,numden_f,num_densities) "
   ]
  },
  {
   "cell_type": "markdown",
   "metadata": {},
   "source": [
    "Ara trobarem el valor de $x_p$ a partir de l'expressió autoconsitent que hem obtingut per $x_p$ on s'ha considerat que la interacció coulombiana entre les partícules és despreciable, que la interacció entre nucleons ve determinada per el model de binding energy de H-H comentat anteriorment, i que a més hi ha una interacció per mitjà del bosó fosc entre neutró i electró caracteritzada per el paràmetre de coupling $g=\\frac{Y_eY_n}{m_{\\phi}^2}$. Dit això l'expressió autoconsistent és:\n",
    "\n",
    "\\begin{align*}\n",
    "x_p=\\frac{1}{3\\pi^2n(\\hbar c)^3}((4S_o(\\frac{n}{n_o})^{\\gamma}-gn)(1-2x_p))^3\n",
    "\\, \n",
    "\\end{align*}"
   ]
  },
  {
   "cell_type": "code",
   "execution_count": 345,
   "metadata": {},
   "outputs": [],
   "source": [
    "g_0=-1e-5 # Unitats de MeV^-2\n",
    "g=g_0*hbc3 # Unitats de MeV·fm^3"
   ]
  },
  {
   "cell_type": "code",
   "execution_count": 346,
   "metadata": {},
   "outputs": [],
   "source": [
    "precisio=1e-12 # quan el valor de abs(x_p{j}-x_p{j-1}) sigui menor a la precisio donarem el valor de x_p{j} com el correcte\n",
    "\n",
    "xp=np.zeros(num_densities)+1e-6 # per cada valor de n que considerem, comencem associant un valor que creiem aproximant per la \n",
    "                                # x_p, que iniciarà el mètode autoconsistent. Al final tots aquests valors seran modificats per \n",
    "                                # la x_p final que trobem pel mètode autoconsistent\n",
    "        \n",
    "# AQUÍ COMENÇA EL LOOP PER TROBAR LA X_P PER CADA VALOR DE n QUE TRACTEM\n",
    "\n",
    "for i,n in enumerate( numden ): # i pren valors 0,1,2,... i n els valors de la densitat n que tractarem\n",
    "    xpold=xp[i] \n",
    "    \n",
    "    diff=1. # Això servirà per calcular la diferència abs(x_p{j}-x_p{j-1})\n",
    "    \n",
    "    S=4.*s0*np.power( n/n0,gamma )-g*n # Definim el terme \n",
    "    \n",
    "    while diff > precisio : # Aquí comença el mètode autoconsistent com a tal\n",
    "        \n",
    "        xpnew=(1./(3.*np.power(pi,2)*n*hbc3))*np.power(S*(1.-2.*xpold),3)\n",
    "        \n",
    "        xpold=(xpnew+xpold)/2.\n",
    "       \n",
    "        diff=np.abs( xpnew-xpold )\n",
    "        \n",
    "      \n",
    "    xp[i]=xpnew # El vector on inicialment tenia els valors de la xp inicials, ara canvio cada valor de xp per el xpnew que \n",
    "                #correspon a la n que hem considerat\n",
    "    if xp[i]<0:\n",
    "        print('xp negatius!')"
   ]
  },
  {
   "cell_type": "markdown",
   "metadata": {},
   "source": [
    "Ara ja tenim el valor de $x_p$ pel que correspon a cada valor de n, així que podem trobar $x_n=1-x_p$ i també el valor numèric de la densitat d'energia dels nucleons. \n",
    "\n",
    "I a partir d'aquí trobar la pressió corresponent amb l'expressió $P= n^2 \\frac{\\partial e}{\\partial n}$ per l'energia per partícules\n",
    "\n",
    "I si ho fem per la densitat d'energia l'expressió és $P=n\\frac{\\partial \\epsilon}{\\partial n} - \\epsilon$ per la densitat d'energia"
   ]
  },
  {
   "cell_type": "markdown",
   "metadata": {},
   "source": [
    "Primer però calculem els paràmetres bàsics que necessitarem"
   ]
  },
  {
   "cell_type": "code",
   "execution_count": 347,
   "metadata": {},
   "outputs": [],
   "source": [
    "# Primer calculem la densitat de neutrons n_n i de protons n_p (en fm^-3)\n",
    "n_p=numden*xp\n",
    "n_n=numden*(1.-xp)\n",
    "\n",
    "# Ara calculem els paràmetres principals pels electrons\n",
    "electron_eden_units=np.power(m_el,4)/hbc3/3./np.power(pi,2)\n",
    "\n",
    "mu_e=4*s0*np.power(numden/n0,gamma)*(1.-2.*xp)+g*xp*numden # potencial químic de l'electró\n",
    "pf_e=hbc*np.power((3*np.power(pi,2)*xp*numden),1./3.)\n",
    "n_e=n_p"
   ]
  },
  {
   "cell_type": "markdown",
   "metadata": {},
   "source": [
    "I ara sí que calculem la densitat d'energia i l'energia per partícula dels nucleons"
   ]
  },
  {
   "cell_type": "code",
   "execution_count": 348,
   "metadata": {},
   "outputs": [],
   "source": [
    "# Vector amb les energies per partícula per cada valor de n\n",
    "e_binding=(e0/n0)*numden*((numden-n0*(2.+delta))/(n0+delta*numden)) + s0*np.power((numden/n0),gamma)*np.power((1.-2.*xp),2.)\n",
    "e_coupling=0.5*g*xp*(1-xp)*numden #\n",
    "\n",
    "# I ara podem trobar la densitat d'energia dels nucleons, hi ho posem en un vector en MeV fm-3\n",
    "edens_n=np.zeros(num_densities)\n",
    "edens_n=e_binding*numden + e_coupling*numden + n_n*mneut + n_p*mprot"
   ]
  },
  {
   "cell_type": "markdown",
   "metadata": {},
   "source": [
    "I ara a partir de la energia per partícula trobada, e, calculem la pressió que exerceixen els nucleons $P= n^2 \\frac{\\partial e}{\\partial n}$; en la derivada3 farem servir l'expressió $P=n\\frac{\\partial \\epsilon}{\\partial n} - \\epsilon$\n",
    "\n",
    "Així doncs el que farem serà:\n",
    "\n",
    "derivada1=$n^2\\frac{\\partial (\\frac{e_0}{n_0} n \\frac{ n - n_0(2+\\delta) }{ n_0 + \\delta n})}{\\partial n}$\n",
    "\n",
    "derivada2=$n^2\\frac{\\partial (S_0 \\left( \\frac{ n }{ n_0} \\right)^\\gamma \\left( 1 - 2 x_p \\right)^2)}{\\partial n}$\n",
    "\n",
    "derivada3=$n\\frac{\\partial (\\frac{1}{2}gx_p(1-x_p)n^2)}{\\partial n} - \\frac{1}{2}gx_p(1-x_p)n^2$"
   ]
  },
  {
   "cell_type": "code",
   "execution_count": 349,
   "metadata": {},
   "outputs": [],
   "source": [
    "derivada1=-e0*(n0-numden)*np.power(numden,2)*( (2.+delta)*n0 + delta*numden )/( n0*np.power( n0+delta*numden,2 ) )\n",
    "derivada2=s0*gamma*np.power(n0,-gamma)*np.power( (n_n - n_p),2 )*np.power(numden,gamma-1.)\n",
    "derivada3=0.5*g*xp*(1.-xp)*np.power(numden,2) # part deguda al coupling\n",
    "\n",
    "\n",
    "derivada=derivada1+derivada2+derivada3\n",
    "\n",
    "p_nuc=derivada"
   ]
  },
  {
   "cell_type": "markdown",
   "metadata": {},
   "source": [
    "Ara fem el mateix pels electrons, primer calcularem la densitat d'energia en MeV*fm^-3"
   ]
  },
  {
   "cell_type": "code",
   "execution_count": 350,
   "metadata": {},
   "outputs": [],
   "source": [
    "# Ara calculem la densitat d'energia en MeV*fm-3\n",
    "edens_e=electron_eden_units*energy(pf_e/m_el) # Hem fet servir funció energia definida en eos_functions.py (mirar white dwarfs)\n",
    "edens_e=edens_e + 0.5*g*xp*(1.-xp)*np.power(numden,2) # afageixo la part degut al coupling del bosó fosc"
   ]
  },
  {
   "cell_type": "markdown",
   "metadata": {},
   "source": [
    "I ara anem a calcular la pressió degut als electrons"
   ]
  },
  {
   "cell_type": "code",
   "execution_count": 351,
   "metadata": {},
   "outputs": [],
   "source": [
    "# Aprofitarem la funció pressure definida en eos_functions.py per calcular la pressió (mirar white dwarfs)\n",
    "derivada1_el=electron_eden_units*pressure(pf_e/m_el)\n",
    "derivada2_el=0.5*g*xp*(1.-xp)*np.power(numden,2) # part deguda al coupling\n",
    "\n",
    "\n",
    "derivada_el=derivada1_el+derivada2_el\n",
    "\n",
    "p_el=derivada_el"
   ]
  },
  {
   "cell_type": "markdown",
   "metadata": {},
   "source": [
    "I ara ho representem i guardem P(n) en un fitxer"
   ]
  },
  {
   "cell_type": "code",
   "execution_count": 352,
   "metadata": {
    "scrolled": true
   },
   "outputs": [
    {
     "data": {
      "image/png": "[encoded data removed]",
      "text/plain": [
       "<Figure size 432x288 with 2 Axes>"
      ]
     },
     "metadata": {
      "needs_background": "light"
     },
     "output_type": "display_data"
    }
   ],
   "source": [
    "edens=edens_n + edens_e\n",
    "press=p_nuc + p_el\n",
    "\n",
    "\n",
    "# Representació fracció de partícules en funció de n\n",
    "fig, (ax1,ax2) = plt.subplots(2,sharex=True)\n",
    "ax1.semilogy(numden,(1-xp),label='Neutrons',lw=1.5)\n",
    "ax1.semilogy(numden,xp,'--',lw=1.5,label='Protons')\n",
    "ax1.semilogy(numden,xp,'-.',lw=1.5,label='Electrons')\n",
    "ax1.legend(loc='lower right')\n",
    "ax1.set_ylim([1e-3,1])\n",
    "ax2.set(xlabel=r'Density, $ n: $ fm$^{-3}$')\n",
    "ax1.set(ylabel=r'Particle fractions, $x_i$')\n",
    "ax2.set(ylabel=r'Pressure, $P$ [MeV fm$^{-3}$]')\n",
    "\n",
    "# Representació pressió\n",
    "ax2.semilogy(numden,press,label='Total',lw=1.5)\n",
    "ax2.semilogy(numden,p_nuc,'--',label='Nucleon',lw=1.5)\n",
    "ax2.semilogy(numden,p_el,'-.',label='Electron',lw=1.5)\n",
    "ax2.legend(loc='lower right')\n",
    "\n",
    "\n",
    "plt.show()\n",
    "\n",
    "\n",
    "u=numden/n0\n",
    "# Ho escrivim en un fitxer\n",
    "data_to_write = np.array( [edens[:],press[:],u[:]] ).T\n",
    "outputfile=\"-1e-5gamma0.6.dat\"\n",
    "with open(outputfile,\"w+\") as file_id :\n",
    "    np.savetxt(file_id,data_to_write,fmt=[\"%16.6E\",\"%16.6E\",\"%16.6E\"],header=\"  eden [MeVfm-3]   Pres [MeVfm-3]     Den/0.16\")"
   ]
  },
  {
   "cell_type": "code",
   "execution_count": null,
   "metadata": {},
   "outputs": [],
   "source": []
  }
 ],
 "metadata": {
  "kernelspec": {
   "display_name": "Python 3",
   "language": "python",
   "name": "python3"
  },
  "language_info": {
   "codemirror_mode": {
    "name": "ipython",
    "version": 3
   },
   "file_extension": ".py",
   "mimetype": "text/x-python",
   "name": "python",
   "nbconvert_exporter": "python",
   "pygments_lexer": "ipython3",
   "version": "3.8.5"
  }
 },
 "nbformat": 4,
 "nbformat_minor": 4
}
